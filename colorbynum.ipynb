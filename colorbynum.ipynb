{
 "cells": [
  {
   "cell_type": "markdown",
   "id": "a13facab",
   "metadata": {},
   "source": [
    "Import modules"
   ]
  },
  {
   "cell_type": "code",
   "execution_count": 30,
   "id": "c70cbbc3",
   "metadata": {},
   "outputs": [],
   "source": [
    "import PIL\n",
    "from PIL import Image\n",
    "\n",
    "import math\n",
    "import os"
   ]
  },
  {
   "cell_type": "markdown",
   "id": "e61e674e",
   "metadata": {},
   "source": [
    "Testing capabilities of PIL. Just creating a negative of image to test."
   ]
  },
  {
   "cell_type": "code",
   "execution_count": null,
   "id": "755411ab",
   "metadata": {},
   "outputs": [],
   "source": [
    "img = Image.open(\"images/raw_images/marston_lol.jpg\")\n",
    "for x in range(img.height):\n",
    "    for y in range(img.width):\n",
    "        col = img.getpixel((y,x))\n",
    "        img.putpixel((y,x), (255-col[0],255-col[1],255-col[2]))\n",
    "img"
   ]
  },
  {
   "cell_type": "markdown",
   "id": "6174c43d",
   "metadata": {},
   "source": [
    "Define a BFS using a queue to populate the image with fewer colors of the same similarities."
   ]
  },
  {
   "cell_type": "code",
   "execution_count": 31,
   "id": "dd15c1bf",
   "metadata": {},
   "outputs": [],
   "source": [
    "def BFS_average(img, origin, visit_arr, tolerance):\n",
    "    queue = []\n",
    "    queue.append(origin)\n",
    "    color = img.getpixel(origin)\n",
    "    while (len(queue) > 0):\n",
    "        curr_coords = queue.pop()\n",
    "        if (visit_arr[curr_coords[1]][curr_coords[0]] == 1):\n",
    "            continue\n",
    "\n",
    "        curr = img.getpixel(curr_coords)\n",
    "        euclidean_distance = math.sqrt(math.pow((color[0]-curr[0]),2) + math.pow((color[1]-curr[1]),2) + math.pow((color[2]-curr[2]),2))\n",
    "        visit_arr[curr_coords[1]][curr_coords[0]] = 1\n",
    "\n",
    "        if (euclidean_distance > tolerance):\n",
    "            continue\n",
    "\n",
    "        img.putpixel(curr_coords, color)\n",
    "\n",
    "        if (curr_coords[1] >= 0 and curr_coords[1] < img.height):\n",
    "            if (curr_coords[0] > 0):\n",
    "                queue.append(((curr_coords[0] - 1), curr_coords[1]))\n",
    "            if (curr_coords[0] < img.width - 1):\n",
    "                queue.append(((curr_coords[0] + 1), curr_coords[1]))\n",
    "        if (curr_coords[0] >= 0 and curr_coords[0] < img.width):\n",
    "            if (curr_coords[1] > 0):\n",
    "                queue.append((curr_coords[0], (curr_coords[1] - 1)))\n",
    "            if (curr_coords[1] < img.height - 1):\n",
    "                queue.append((curr_coords[0], (curr_coords[1] + 1)))\n",
    "\n",
    "def average_image(img, tolerance):\n",
    "    visit_arr = [[0 for x in range(img.width)] for x in range(img.height)]\n",
    "\n",
    "    for x in range(img.width):\n",
    "        for y in range(img.height):\n",
    "            BFS_average(img, (x,y), visit_arr, tolerance)"
   ]
  },
  {
   "cell_type": "code",
   "execution_count": 32,
   "id": "5acf707b",
   "metadata": {},
   "outputs": [],
   "source": [
    "def BFS_edges(img, origin, visit_arr, tolerance, edge_array):\n",
    "    queue = []\n",
    "    queue.append(origin)\n",
    "    color = img.getpixel(origin)\n",
    "    while (len(queue) > 0):\n",
    "        curr_coords = queue.pop()\n",
    "        if (visit_arr[curr_coords[1]][curr_coords[0]] == 1):\n",
    "            continue\n",
    "\n",
    "        curr = img.getpixel(curr_coords)\n",
    "        euclidean_distance = math.sqrt(math.pow((color[0]-curr[0]),2) + math.pow((color[1]-curr[1]),2) + math.pow((color[2]-curr[2]),2))\n",
    "        visit_arr[curr_coords[1]][curr_coords[0]] = 1\n",
    "\n",
    "        if (euclidean_distance > tolerance):\n",
    "            edge_array.append(curr_coords)\n",
    "            continue\n",
    "\n",
    "        if (curr_coords[1] >= 0 and curr_coords[1] < img.height):\n",
    "            if (curr_coords[0] > 0):\n",
    "                queue.append(((curr_coords[0] - 1), curr_coords[1]))\n",
    "            if (curr_coords[0] < img.width - 1):\n",
    "                queue.append(((curr_coords[0] + 1), curr_coords[1]))\n",
    "        if (curr_coords[0] >= 0 and curr_coords[0] < img.width):\n",
    "            if (curr_coords[1] > 0):\n",
    "                queue.append((curr_coords[0], (curr_coords[1] - 1)))\n",
    "            if (curr_coords[1] < img.height - 1):\n",
    "                queue.append((curr_coords[0], (curr_coords[1] + 1)))\n",
    "\n",
    "def draw_edges(img, tolerance):\n",
    "    visit_arr = [[0 for x in range(img.width)] for x in range(img.height)]\n",
    "    edges_arr = []\n",
    "    \n",
    "    for x in range(img.width):\n",
    "        for y in range(img.height):\n",
    "            BFS_edges(img, (x,y), visit_arr, tolerance, edges_arr)\n",
    "            \n",
    "    for x in edges_arr:\n",
    "        img.putpixel(x, (0,0,0))"
   ]
  },
  {
   "cell_type": "markdown",
   "id": "7ef1ed32",
   "metadata": {},
   "source": [
    "Loop through images and manipulate a whole folder (Inefficient. Don't do)"
   ]
  },
  {
   "cell_type": "code",
   "execution_count": null,
   "id": "65d10d00",
   "metadata": {},
   "outputs": [],
   "source": [
    "dirs = os.listdir(\"images/raw_images/\")\n",
    "tolerance = 40\n",
    "for x in dirs:\n",
    "    img = Image.open(\"images/raw_images/\" + x)\n",
    "    average_image(img, tolerance)\n",
    "    img.save(\"images/averaged_images/\" + x)\n",
    "    draw_edges(img, tolerance)\n",
    "    img.save(\"images/edged_images/\" + x)\n",
    "    "
   ]
  },
  {
   "cell_type": "markdown",
   "id": "7ff44a09",
   "metadata": {},
   "source": [
    "Modify a single image"
   ]
  },
  {
   "cell_type": "code",
   "execution_count": 108,
   "id": "0cc66595",
   "metadata": {},
   "outputs": [],
   "source": [
    "file = \"baileyoncouch.jpg\"\n",
    "tolerance = 32\n",
    "img = Image.open(\"images/raw_images/\" + file)"
   ]
  },
  {
   "cell_type": "code",
   "execution_count": 109,
   "id": "809174e4",
   "metadata": {},
   "outputs": [],
   "source": [
    "average_image(img, tolerance)\n",
    "img.save(\"images/averaged_images/\" + file)"
   ]
  },
  {
   "cell_type": "code",
   "execution_count": 110,
   "id": "dfe3ff91",
   "metadata": {},
   "outputs": [],
   "source": [
    "draw_edges(img, tolerance)\n",
    "img.save(\"images/edged_images/\" + file)"
   ]
  },
  {
   "cell_type": "markdown",
   "id": "956a2248",
   "metadata": {},
   "source": [
    "# EOF"
   ]
  }
 ],
 "metadata": {
  "kernelspec": {
   "display_name": "Python 3 (ipykernel)",
   "language": "python",
   "name": "python3"
  },
  "language_info": {
   "codemirror_mode": {
    "name": "ipython",
    "version": 3
   },
   "file_extension": ".py",
   "mimetype": "text/x-python",
   "name": "python",
   "nbconvert_exporter": "python",
   "pygments_lexer": "ipython3",
   "version": "3.9.16"
  }
 },
 "nbformat": 4,
 "nbformat_minor": 5
}
